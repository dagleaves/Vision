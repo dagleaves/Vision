{
 "cells": [
  {
   "cell_type": "markdown",
   "id": "de2cb5e7",
   "metadata": {},
   "source": [
    "# MNIST Data Property Collection"
   ]
  },
  {
   "cell_type": "code",
   "execution_count": 10,
   "id": "ccc7ce0d",
   "metadata": {},
   "outputs": [],
   "source": [
    "import torch\n",
    "from torchvision import datasets, transforms"
   ]
  },
  {
   "cell_type": "code",
   "execution_count": 15,
   "id": "c0587e54",
   "metadata": {},
   "outputs": [],
   "source": [
    "data_dir = 'data'\n",
    "batch_size_train = 10\n",
    "batch_size_test = 64"
   ]
  },
  {
   "cell_type": "code",
   "execution_count": 16,
   "id": "717f2c84",
   "metadata": {},
   "outputs": [],
   "source": [
    "tfs = transforms.Compose([transforms.ToTensor()])\n",
    "\n",
    "train_data = datasets.MNIST(data_dir,\n",
    "                            train=True,\n",
    "                            download=True,\n",
    "                            transform=tfs\n",
    "                            )\n",
    "\n",
    "test_data = datasets.MNIST(data_dir,\n",
    "                           train=False,\n",
    "                           download=True,\n",
    "                           transform=tfs)\n",
    "\n",
    "train_loader = torch.utils.data.DataLoader(train_data,\n",
    "                                           batch_size=batch_size_train, \n",
    "                                           shuffle=True)\n",
    "test_loader = torch.utils.data.DataLoader(test_data,\n",
    "                                          batch_size=batch_size_test, \n",
    "                                          shuffle=True)"
   ]
  },
  {
   "cell_type": "markdown",
   "id": "ae3b256a",
   "metadata": {},
   "source": [
    "## Example of MNIST image"
   ]
  },
  {
   "cell_type": "code",
   "execution_count": 34,
   "id": "1a1acc03",
   "metadata": {},
   "outputs": [
    {
     "name": "stdout",
     "output_type": "stream",
     "text": [
      "Label: tensor(3)\n",
      "Shape: torch.Size([28, 28])\n"
     ]
    },
    {
     "data": {
      "image/png": "[encoded data removed]",
      "text/plain": [
       "<Figure size 640x480 with 1 Axes>"
      ]
     },
     "metadata": {},
     "output_type": "display_data"
    }
   ],
   "source": [
    "# import library\n",
    "import matplotlib.pyplot as plt\n",
    "# We can check the dataloader\n",
    "example_datas, labels = next(iter(test_loader))\n",
    "sample = example_datas[0][0]\n",
    "# show the data\n",
    "plt.imshow(sample, cmap='gray', interpolation='none')\n",
    "print(\"Label:\", str(labels[0]))\n",
    "print(\"Shape:\", sample.shape)"
   ]
  },
  {
   "cell_type": "markdown",
   "id": "d9cdfcb2",
   "metadata": {},
   "source": [
    "## Mean and Variance\n",
    "https://gist.github.com/JorritWillaert/2cae1da8cd42226a184f0268c0cb58f8#file-get_mean_and_std-py"
   ]
  },
  {
   "cell_type": "code",
   "execution_count": 30,
   "id": "f6886e37",
   "metadata": {},
   "outputs": [
    {
     "name": "stdout",
     "output_type": "stream",
     "text": [
      "Mean: tensor([0.1307])\n",
      "Std: tensor([0.3081])\n"
     ]
    }
   ],
   "source": [
    "channels_sum, channels_squared_sum, num_batches = 0, 0, 0\n",
    "for data, _ in train_loader:\n",
    "    # Mean over batch, height and width, but not over the channels\n",
    "    channels_sum += torch.mean(data, dim=[0,2,3])\n",
    "    channels_squared_sum += torch.mean(data**2, dim=[0,2,3])\n",
    "    num_batches += 1\n",
    "\n",
    "mean = channels_sum / num_batches\n",
    "\n",
    "# std = sqrt(E[X^2] - (E[X])^2)\n",
    "std = (channels_squared_sum / num_batches - mean ** 2) ** 0.5\n",
    "print(\"Mean:\", mean)\n",
    "print(\"Std:\", std)"
   ]
  },
  {
   "cell_type": "markdown",
   "id": "c614744b",
   "metadata": {},
   "source": [
    "## Shape\n",
    "For the MLP model, we flatten the image\n",
    "For imagenet, "
   ]
  },
  {
   "cell_type": "code",
   "execution_count": 44,
   "id": "0ed6a47f",
   "metadata": {},
   "outputs": [
    {
     "name": "stdout",
     "output_type": "stream",
     "text": [
      "torch.Size([64, 1, 28, 28])\n",
      "torch.Size([64, 1, 784])\n"
     ]
    }
   ],
   "source": [
    "data, _ = next(iter(test_loader))\n",
    "MLP_shape = data.view(*data.shape[:-2], -1)\n",
    "print(data.shape)\n",
    "print(MLP_shape.shape)"
   ]
  }
 ],
 "metadata": {
  "kernelspec": {
   "display_name": "Python [conda env:VisionNETs]",
   "language": "python",
   "name": "conda-env-VisionNETs-py"
  },
  "language_info": {
   "codemirror_mode": {
    "name": "ipython",
    "version": 3
   },
   "file_extension": ".py",
   "mimetype": "text/x-python",
   "name": "python",
   "nbconvert_exporter": "python",
   "pygments_lexer": "ipython3",
   "version": "3.8.16"
  }
 },
 "nbformat": 4,
 "nbformat_minor": 5
}
