{
 "cells": [
  {
   "cell_type": "markdown",
   "id": "de2cb5e7",
   "metadata": {},
   "source": [
    "# CIFAR-100 Data Property Collection"
   ]
  },
  {
   "cell_type": "code",
   "execution_count": 2,
   "id": "ccc7ce0d",
   "metadata": {},
   "outputs": [],
   "source": [
    "import torch\n",
    "from torchvision import datasets, transforms\n",
    "import os"
   ]
  },
  {
   "cell_type": "code",
   "execution_count": 3,
   "id": "c0587e54",
   "metadata": {},
   "outputs": [
    {
     "name": "stdout",
     "output_type": "stream",
     "text": [
      "Using data dir: D:\\Workspace\\git\\active\\VisionNETs\\data\n"
     ]
    }
   ],
   "source": [
    "data_dir = os.path.dirname(os.path.abspath('')) + '\\data'\n",
    "batch_size_train = 32\n",
    "batch_size_test = 64\n",
    "print('Using data dir:', data_dir)"
   ]
  },
  {
   "cell_type": "code",
   "execution_count": 4,
   "id": "717f2c84",
   "metadata": {},
   "outputs": [
    {
     "name": "stdout",
     "output_type": "stream",
     "text": [
      "Downloading https://www.cs.toronto.edu/~kriz/cifar-100-python.tar.gz to D:\\Workspace\\git\\active\\VisionNETs\\data\\cifar-100-python.tar.gz\n"
     ]
    },
    {
     "name": "stderr",
     "output_type": "stream",
     "text": [
      "100%|███████████████████████████████████████████████████████████████████████████████████████████████████████████████████████████████████████████████████████████████████████████████| 169001437/169001437 [00:18<00:00, 9059880.99it/s]\n"
     ]
    },
    {
     "name": "stdout",
     "output_type": "stream",
     "text": [
      "Extracting D:\\Workspace\\git\\active\\VisionNETs\\data\\cifar-100-python.tar.gz to D:\\Workspace\\git\\active\\VisionNETs\\data\n",
      "Files already downloaded and verified\n"
     ]
    }
   ],
   "source": [
    "tfs = transforms.Compose([transforms.ToTensor()])\n",
    "\n",
    "train_data = datasets.CIFAR100(data_dir,\n",
    "                            train=True,\n",
    "                            download=True,\n",
    "                            transform=tfs\n",
    "                            )\n",
    "\n",
    "test_data = datasets.CIFAR100(data_dir,\n",
    "                           train=False,\n",
    "                           download=True,\n",
    "                           transform=tfs\n",
    "                           )\n",
    "\n",
    "train_loader = torch.utils.data.DataLoader(train_data,\n",
    "                                           batch_size=batch_size_train, \n",
    "                                           shuffle=True)\n",
    "test_loader = torch.utils.data.DataLoader(test_data,\n",
    "                                          batch_size=batch_size_test, \n",
    "                                          shuffle=True)"
   ]
  },
  {
   "cell_type": "markdown",
   "id": "ae3b256a",
   "metadata": {},
   "source": [
    "## Example of dataset image"
   ]
  },
  {
   "cell_type": "code",
   "execution_count": 12,
   "id": "1a1acc03",
   "metadata": {},
   "outputs": [
    {
     "name": "stdout",
     "output_type": "stream",
     "text": [
      "Label: tensor(76)\n",
      "Shape: torch.Size([32, 32, 3])\n"
     ]
    },
    {
     "data": {
      "image/png": "[encoded data removed]",
      "text/plain": [
       "<Figure size 640x480 with 1 Axes>"
      ]
     },
     "metadata": {},
     "output_type": "display_data"
    }
   ],
   "source": [
    "import matplotlib.pyplot as plt\n",
    "example_data, labels = next(iter(test_loader))\n",
    "sample = example_data[0].permute(1, 2, 0)\n",
    "# show the data\n",
    "plt.imshow(sample, interpolation='nearest')\n",
    "print(\"Label:\", str(labels[0]))\n",
    "print(\"Shape:\", sample.shape)"
   ]
  },
  {
   "cell_type": "markdown",
   "id": "d9cdfcb2",
   "metadata": {},
   "source": [
    "## Mean and Variance\n",
    "https://gist.github.com/JorritWillaert/2cae1da8cd42226a184f0268c0cb58f8#file-get_mean_and_std-py"
   ]
  },
  {
   "cell_type": "code",
   "execution_count": 13,
   "id": "f6886e37",
   "metadata": {},
   "outputs": [
    {
     "name": "stdout",
     "output_type": "stream",
     "text": [
      "Mean: tensor([0.5071, 0.4865, 0.4409])\n",
      "Std: tensor([0.2673, 0.2564, 0.2762])\n"
     ]
    }
   ],
   "source": [
    "channels_sum, channels_squared_sum, num_batches = 0, 0, 0\n",
    "for data, _ in train_loader:\n",
    "    # Mean over batch, height and width, but not over the channels\n",
    "    channels_sum += torch.mean(data, dim=[0,2,3])\n",
    "    channels_squared_sum += torch.mean(data**2, dim=[0,2,3])\n",
    "    num_batches += 1\n",
    "\n",
    "mean = channels_sum / num_batches\n",
    "\n",
    "# std = sqrt(E[X^2] - (E[X])^2)\n",
    "std = (channels_squared_sum / num_batches - mean ** 2) ** 0.5\n",
    "print(\"Mean:\", mean)\n",
    "print(\"Std:\", std)"
   ]
  },
  {
   "cell_type": "markdown",
   "id": "c614744b",
   "metadata": {},
   "source": [
    "## Shape\n",
    "For the MLP model, we flatten the image"
   ]
  },
  {
   "cell_type": "code",
   "execution_count": 14,
   "id": "0ed6a47f",
   "metadata": {
    "scrolled": true
   },
   "outputs": [
    {
     "name": "stdout",
     "output_type": "stream",
     "text": [
      "torch.Size([64, 3, 32, 32])\n",
      "torch.Size([64, 3072])\n"
     ]
    }
   ],
   "source": [
    "data, _ = next(iter(test_loader))\n",
    "MLP_shape = data.view(*data.shape[:1], -1)\n",
    "print(data.shape)\n",
    "print(MLP_shape.shape)"
   ]
  },
  {
   "cell_type": "code",
   "execution_count": null,
   "id": "98c45e15",
   "metadata": {},
   "outputs": [],
   "source": []
  }
 ],
 "metadata": {
  "kernelspec": {
   "display_name": "Python [conda env:VisionNETs]",
   "language": "python",
   "name": "conda-env-VisionNETs-py"
  },
  "language_info": {
   "codemirror_mode": {
    "name": "ipython",
    "version": 3
   },
   "file_extension": ".py",
   "mimetype": "text/x-python",
   "name": "python",
   "nbconvert_exporter": "python",
   "pygments_lexer": "ipython3",
   "version": "3.8.16"
  }
 },
 "nbformat": 4,
 "nbformat_minor": 5
}
